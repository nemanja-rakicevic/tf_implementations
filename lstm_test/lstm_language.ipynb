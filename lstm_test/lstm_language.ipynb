{
 "cells": [
  {
   "cell_type": "code",
   "execution_count": 3,
   "metadata": {
    "collapsed": true
   },
   "outputs": [],
   "source": [
    "import tensorflow as tf\n",
    "from tensorflow.contrib import rnn"
   ]
  },
  {
   "cell_type": "code",
   "execution_count": 4,
   "metadata": {},
   "outputs": [
    {
     "name": "stdout",
     "output_type": "stream",
     "text": [
      "Successfully downloaded train-images-idx3-ubyte.gz 9912422 bytes.\n",
      "Extracting /tmp/data/train-images-idx3-ubyte.gz\n",
      "Successfully downloaded train-labels-idx1-ubyte.gz 28881 bytes.\n",
      "Extracting /tmp/data/train-labels-idx1-ubyte.gz\n",
      "Successfully downloaded t10k-images-idx3-ubyte.gz 1648877 bytes.\n",
      "Extracting /tmp/data/t10k-images-idx3-ubyte.gz\n",
      "Successfully downloaded t10k-labels-idx1-ubyte.gz 4542 bytes.\n",
      "Extracting /tmp/data/t10k-labels-idx1-ubyte.gz\n"
     ]
    }
   ],
   "source": [
    "\n",
    "# Import MNIST data\n",
    "from tensorflow.examples.tutorials.mnist import input_data\n",
    "mnist = input_data.read_data_sets(\"/tmp/data/\", one_hot=True)"
   ]
  },
  {
   "cell_type": "code",
   "execution_count": 5,
   "metadata": {
    "collapsed": true
   },
   "outputs": [],
   "source": [
    "# Training Parameters\n",
    "learning_rate = 0.001\n",
    "training_steps = 10000\n",
    "batch_size = 128\n",
    "display_step = 200\n",
    "\n",
    "# Network Parameters\n",
    "num_input = 28 # MNIST data input (img shape: 28*28)\n",
    "timesteps = 28 # timesteps\n",
    "num_hidden = 128 # hidden layer num of features\n",
    "num_classes = 10 # MNIST total classes (0-9 digits)"
   ]
  },
  {
   "cell_type": "code",
   "execution_count": 6,
   "metadata": {
    "collapsed": true
   },
   "outputs": [],
   "source": [
    "\n",
    "# tf Graph input\n",
    "X = tf.placeholder(\"float\", [None, timesteps, num_input])\n",
    "Y = tf.placeholder(\"float\", [None, num_classes])\n",
    "\n",
    "# Define weights\n",
    "weights = {\n",
    "    'out': tf.Variable(tf.random_normal([num_hidden, num_classes]))\n",
    "}\n",
    "biases = {\n",
    "    'out': tf.Variable(tf.random_normal([num_classes]))\n",
    "}\n"
   ]
  },
  {
   "cell_type": "code",
   "execution_count": 7,
   "metadata": {
    "collapsed": true
   },
   "outputs": [],
   "source": [
    "\n",
    "def RNN(x, weights, biases):\n",
    "\n",
    "    # Prepare data shape to match `rnn` function requirements\n",
    "    # Current data input shape: (batch_size, timesteps, n_input)\n",
    "    # Required shape: 'timesteps' tensors list of shape (batch_size, n_input)\n",
    "\n",
    "    # Unstack to get a list of 'timesteps' tensors of shape (batch_size, n_input)\n",
    "    x = tf.unstack(x, timesteps, 1)\n",
    "\n",
    "    # Define a lstm cell with tensorflow\n",
    "    lstm_cell = rnn.BasicLSTMCell(num_hidden, forget_bias=1.0)\n",
    "\n",
    "    # Get lstm cell output\n",
    "    outputs, states = rnn.static_rnn(lstm_cell, x, dtype=tf.float32)\n",
    "\n",
    "    # Linear activation, using rnn inner loop last output\n",
    "    return tf.matmul(outputs[-1], weights['out']) + biases['out']\n"
   ]
  },
  {
   "cell_type": "code",
   "execution_count": 8,
   "metadata": {
    "collapsed": true
   },
   "outputs": [],
   "source": [
    "logits = RNN(X, weights, biases)\n",
    "prediction = tf.nn.softmax(logits)\n",
    "\n",
    "# Define loss and optimizer\n",
    "loss_op = tf.reduce_mean(tf.nn.softmax_cross_entropy_with_logits(logits=logits, labels=Y))\n",
    "\n",
    "optimizer = tf.train.GradientDescentOptimizer(learning_rate=learning_rate)\n",
    "\n",
    "train_op = optimizer.minimize(loss_op)\n",
    "\n",
    "# Evaluate model (with test logits, for dropout to be disabled)\n",
    "correct_pred = tf.equal(tf.argmax(prediction, 1), tf.argmax(Y, 1))\n",
    "accuracy = tf.reduce_mean(tf.cast(correct_pred, tf.float32))\n",
    "\n",
    "# Initialize the variables (i.e. assign their default value)\n",
    "init = tf.global_variables_initializer()"
   ]
  },
  {
   "cell_type": "code",
   "execution_count": 9,
   "metadata": {},
   "outputs": [
    {
     "name": "stdout",
     "output_type": "stream",
     "text": [
      "Step 1, Minibatch Loss= 2.6637, Training Accuracy= 0.109\n",
      "Step 200, Minibatch Loss= 2.1878, Training Accuracy= 0.227\n",
      "Step 400, Minibatch Loss= 1.9442, Training Accuracy= 0.359\n",
      "Step 600, Minibatch Loss= 1.8712, Training Accuracy= 0.422\n",
      "Step 800, Minibatch Loss= 1.8216, Training Accuracy= 0.398\n",
      "Step 1000, Minibatch Loss= 1.7171, Training Accuracy= 0.414\n",
      "Step 1200, Minibatch Loss= 1.7114, Training Accuracy= 0.391\n",
      "Step 1400, Minibatch Loss= 1.5968, Training Accuracy= 0.453\n",
      "Step 1600, Minibatch Loss= 1.4987, Training Accuracy= 0.461\n",
      "Step 1800, Minibatch Loss= 1.2817, Training Accuracy= 0.578\n",
      "Step 2000, Minibatch Loss= 1.4154, Training Accuracy= 0.469\n",
      "Step 2200, Minibatch Loss= 1.2632, Training Accuracy= 0.609\n",
      "Step 2400, Minibatch Loss= 1.2397, Training Accuracy= 0.602\n",
      "Step 2600, Minibatch Loss= 1.0749, Training Accuracy= 0.617\n",
      "Step 2800, Minibatch Loss= 1.1887, Training Accuracy= 0.625\n",
      "Step 3000, Minibatch Loss= 1.0418, Training Accuracy= 0.695\n",
      "Step 3200, Minibatch Loss= 1.1338, Training Accuracy= 0.656\n",
      "Step 3400, Minibatch Loss= 1.0558, Training Accuracy= 0.602\n",
      "Step 3600, Minibatch Loss= 1.1489, Training Accuracy= 0.656\n",
      "Step 3800, Minibatch Loss= 1.1281, Training Accuracy= 0.625\n",
      "Step 4000, Minibatch Loss= 1.0307, Training Accuracy= 0.664\n",
      "Step 4200, Minibatch Loss= 0.9565, Training Accuracy= 0.688\n",
      "Step 4400, Minibatch Loss= 0.9599, Training Accuracy= 0.695\n",
      "Step 4600, Minibatch Loss= 0.9848, Training Accuracy= 0.664\n",
      "Step 4800, Minibatch Loss= 0.9124, Training Accuracy= 0.750\n",
      "Step 5000, Minibatch Loss= 0.8200, Training Accuracy= 0.773\n",
      "Step 5200, Minibatch Loss= 0.7472, Training Accuracy= 0.773\n",
      "Step 5400, Minibatch Loss= 0.8578, Training Accuracy= 0.742\n",
      "Step 5600, Minibatch Loss= 0.9254, Training Accuracy= 0.688\n",
      "Step 5800, Minibatch Loss= 0.7742, Training Accuracy= 0.766\n",
      "Step 6000, Minibatch Loss= 0.7179, Training Accuracy= 0.758\n",
      "Step 6200, Minibatch Loss= 0.7733, Training Accuracy= 0.766\n",
      "Step 6400, Minibatch Loss= 0.6055, Training Accuracy= 0.797\n",
      "Step 6600, Minibatch Loss= 0.7721, Training Accuracy= 0.766\n",
      "Step 6800, Minibatch Loss= 0.7291, Training Accuracy= 0.781\n",
      "Step 7000, Minibatch Loss= 0.5968, Training Accuracy= 0.805\n",
      "Step 7200, Minibatch Loss= 0.4464, Training Accuracy= 0.875\n",
      "Step 7400, Minibatch Loss= 0.5610, Training Accuracy= 0.828\n",
      "Step 7600, Minibatch Loss= 0.6540, Training Accuracy= 0.797\n",
      "Step 7800, Minibatch Loss= 0.7242, Training Accuracy= 0.758\n",
      "Step 8000, Minibatch Loss= 0.5628, Training Accuracy= 0.852\n",
      "Step 8200, Minibatch Loss= 0.6236, Training Accuracy= 0.836\n",
      "Step 8400, Minibatch Loss= 0.5473, Training Accuracy= 0.836\n",
      "Step 8600, Minibatch Loss= 0.6121, Training Accuracy= 0.820\n",
      "Step 8800, Minibatch Loss= 0.5274, Training Accuracy= 0.844\n",
      "Step 9000, Minibatch Loss= 0.5970, Training Accuracy= 0.820\n",
      "Step 9200, Minibatch Loss= 0.5154, Training Accuracy= 0.859\n",
      "Step 9400, Minibatch Loss= 0.5739, Training Accuracy= 0.844\n",
      "Step 9600, Minibatch Loss= 0.4492, Training Accuracy= 0.867\n",
      "Step 9800, Minibatch Loss= 0.5191, Training Accuracy= 0.859\n",
      "Step 10000, Minibatch Loss= 0.4505, Training Accuracy= 0.875\n",
      "Optimization Finished!\n",
      "('Testing Accuracy:', 0.859375)\n"
     ]
    }
   ],
   "source": [
    "\n",
    "# Start training\n",
    "with tf.Session() as sess:\n",
    "\n",
    "    # Run the initializer\n",
    "    sess.run(init)\n",
    "\n",
    "    for step in range(1, training_steps+1):\n",
    "        batch_x, batch_y = mnist.train.next_batch(batch_size)\n",
    "        # Reshape data to get 28 seq of 28 elements\n",
    "        batch_x = batch_x.reshape((batch_size, timesteps, num_input))\n",
    "        # Run optimization op (backprop)\n",
    "        sess.run(train_op, feed_dict={X: batch_x, Y: batch_y})\n",
    "        if step % display_step == 0 or step == 1:\n",
    "            # Calculate batch loss and accuracy\n",
    "            loss, acc = sess.run([loss_op, accuracy], feed_dict={X: batch_x,\n",
    "                                                                 Y: batch_y})\n",
    "            print(\"Step \" + str(step) + \", Minibatch Loss= \" + \\\n",
    "                  \"{:.4f}\".format(loss) + \", Training Accuracy= \" + \\\n",
    "                  \"{:.3f}\".format(acc))\n",
    "\n",
    "    print(\"Optimization Finished!\")\n",
    "\n",
    "    # Calculate accuracy for 128 mnist test images\n",
    "    test_len = 128\n",
    "    test_data = mnist.test.images[:test_len].reshape((-1, timesteps, num_input))\n",
    "    test_label = mnist.test.labels[:test_len]\n",
    "    print(\"Testing Accuracy:\", \\\n",
    "        sess.run(accuracy, feed_dict={X: test_data, Y: test_label}))"
   ]
  }
 ],
 "metadata": {
  "kernelspec": {
   "display_name": "Python 2",
   "language": "python",
   "name": "python2"
  },
  "language_info": {
   "codemirror_mode": {
    "name": "ipython",
    "version": 2
   },
   "file_extension": ".py",
   "mimetype": "text/x-python",
   "name": "python",
   "nbconvert_exporter": "python",
   "pygments_lexer": "ipython2",
   "version": "2.7.12"
  }
 },
 "nbformat": 4,
 "nbformat_minor": 2
}
