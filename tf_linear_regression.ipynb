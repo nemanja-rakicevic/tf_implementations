{
 "cells": [
  {
   "cell_type": "code",
   "execution_count": 16,
   "metadata": {
    "collapsed": true
   },
   "outputs": [],
   "source": [
    "import tensorflow as tf\n",
    "import numpy\n",
    "import matplotlib.pyplot as plt\n",
    "rng = numpy.random"
   ]
  },
  {
   "cell_type": "code",
   "execution_count": 30,
   "metadata": {
    "collapsed": true
   },
   "outputs": [],
   "source": [
    "lr = 0.01\n",
    "epochs = 5000\n",
    "disp_step = 50"
   ]
  },
  {
   "cell_type": "code",
   "execution_count": 18,
   "metadata": {
    "collapsed": true
   },
   "outputs": [],
   "source": [
    "# Training Data\n",
    "train_X = numpy.asarray([3.3,4.4,5.5,6.71,6.93,4.168,9.779,6.182,7.59,2.167,\n",
    "                         7.042,10.791,5.313,7.997,5.654,9.27,3.1])\n",
    "train_Y = numpy.asarray([1.7,2.76,2.09,3.19,1.694,1.573,3.366,2.596,2.53,1.221,\n",
    "                         2.827,3.465,1.65,2.904,2.42,2.94,1.3])\n",
    "\n",
    "\n",
    "n_samples = train_X.shape[0]"
   ]
  },
  {
   "cell_type": "code",
   "execution_count": 19,
   "metadata": {
    "collapsed": true
   },
   "outputs": [],
   "source": [
    "# VARS\n",
    "# i/o\n",
    "X = tf.placeholder(\"float\")\n",
    "Y = tf.placeholder(\"float\")\n",
    "\n",
    "# weights\n",
    "W = tf.Variable(rng.randn(), name=\"weight\")\n",
    "b = tf.Variable(rng.randn(), name=\"bias\")\n"
   ]
  },
  {
   "cell_type": "code",
   "execution_count": 20,
   "metadata": {
    "collapsed": true
   },
   "outputs": [],
   "source": [
    "# MODEL\n",
    "pred = tf.add(tf.multiply(X, W), b)"
   ]
  },
  {
   "cell_type": "code",
   "execution_count": 21,
   "metadata": {
    "collapsed": true
   },
   "outputs": [],
   "source": [
    "# EVALUATION (MSE)\n",
    "cost = tf.reduce_sum(tf.pow(pred - Y, 2))/(2 * n_samples)"
   ]
  },
  {
   "cell_type": "code",
   "execution_count": 22,
   "metadata": {
    "collapsed": true
   },
   "outputs": [],
   "source": [
    "# OPTIMISATION \n",
    "optimizer = tf.train.GradientDescentOptimizer(lr).minimize(cost)"
   ]
  },
  {
   "cell_type": "code",
   "execution_count": 23,
   "metadata": {
    "collapsed": true
   },
   "outputs": [],
   "source": [
    "# INIT vars\n",
    "init = tf.global_variables_initializer()"
   ]
  },
  {
   "cell_type": "code",
   "execution_count": 31,
   "metadata": {},
   "outputs": [
    {
     "name": "stdout",
     "output_type": "stream",
     "text": [
      "Epoch: 0050 cost= 0.021434914 W= 0.525343 b= -1.18225\n",
      "Epoch: 0100 cost= 0.018195949 W= 0.508943 b= -1.06427\n",
      "Epoch: 0150 cost= 0.015391551 W= 0.493518 b= -0.95331\n",
      "Epoch: 0200 cost= 0.012967967 W= 0.479011 b= -0.848945\n",
      "Epoch: 0250 cost= 0.010877874 W= 0.465366 b= -0.750787\n",
      "Epoch: 0300 cost= 0.009079620 W= 0.452533 b= -0.658467\n",
      "Epoch: 0350 cost= 0.007536455 W= 0.440464 b= -0.571638\n",
      "Epoch: 0400 cost= 0.006216154 W= 0.429112 b= -0.489973\n",
      "Epoch: 0450 cost= 0.005090304 W= 0.418435 b= -0.413165\n",
      "Epoch: 0500 cost= 0.004133976 W= 0.408393 b= -0.340925\n",
      "Epoch: 0550 cost= 0.003325244 W= 0.398948 b= -0.272982\n",
      "Epoch: 0600 cost= 0.002644869 W= 0.390066 b= -0.209079\n",
      "Epoch: 0650 cost= 0.002075942 W= 0.381711 b= -0.148977\n",
      "Epoch: 0700 cost= 0.001603651 W= 0.373853 b= -0.0924497\n",
      "Epoch: 0750 cost= 0.001215001 W= 0.366463 b= -0.0392842\n",
      "Epoch: 0800 cost= 0.000898604 W= 0.359512 b= 0.0107193\n",
      "Epoch: 0850 cost= 0.000644488 W= 0.352975 b= 0.0577488\n",
      "Epoch: 0900 cost= 0.000443938 W= 0.346826 b= 0.101981\n",
      "Epoch: 0950 cost= 0.000289328 W= 0.341043 b= 0.143583\n",
      "Epoch: 1000 cost= 0.000174001 W= 0.335604 b= 0.18271\n",
      "Epoch: 1050 cost= 0.000092149 W= 0.330489 b= 0.219511\n",
      "Epoch: 1100 cost= 0.000038706 W= 0.325678 b= 0.254122\n",
      "Epoch: 1150 cost= 0.000009268 W= 0.321153 b= 0.286676\n",
      "Epoch: 1200 cost= 0.000000003 W= 0.316897 b= 0.317293\n",
      "Epoch: 1250 cost= 0.000007586 W= 0.312894 b= 0.346089\n",
      "Epoch: 1300 cost= 0.000029133 W= 0.309129 b= 0.373172\n",
      "Epoch: 1350 cost= 0.000062151 W= 0.305588 b= 0.398645\n",
      "Epoch: 1400 cost= 0.000104484 W= 0.302258 b= 0.422603\n",
      "Epoch: 1450 cost= 0.000154277 W= 0.299126 b= 0.445135\n",
      "Epoch: 1500 cost= 0.000209938 W= 0.29618 b= 0.466329\n",
      "Epoch: 1550 cost= 0.000270096 W= 0.293409 b= 0.486261\n",
      "Epoch: 1600 cost= 0.000333581 W= 0.290803 b= 0.505008\n",
      "Epoch: 1650 cost= 0.000399400 W= 0.288352 b= 0.52264\n",
      "Epoch: 1700 cost= 0.000466707 W= 0.286047 b= 0.539222\n",
      "Epoch: 1750 cost= 0.000534797 W= 0.283879 b= 0.55482\n",
      "Epoch: 1800 cost= 0.000603068 W= 0.28184 b= 0.56949\n",
      "Epoch: 1850 cost= 0.000671018 W= 0.279922 b= 0.583287\n",
      "Epoch: 1900 cost= 0.000738237 W= 0.278118 b= 0.596265\n",
      "Epoch: 1950 cost= 0.000804393 W= 0.276421 b= 0.608471\n",
      "Epoch: 2000 cost= 0.000869188 W= 0.274826 b= 0.619948\n",
      "Epoch: 2050 cost= 0.000932416 W= 0.273325 b= 0.630743\n",
      "Epoch: 2100 cost= 0.000993913 W= 0.271914 b= 0.640896\n",
      "Epoch: 2150 cost= 0.001053549 W= 0.270586 b= 0.650446\n",
      "Epoch: 2200 cost= 0.001111224 W= 0.269338 b= 0.659428\n",
      "Epoch: 2250 cost= 0.001166867 W= 0.268164 b= 0.667875\n",
      "Epoch: 2300 cost= 0.001220440 W= 0.267059 b= 0.67582\n",
      "Epoch: 2350 cost= 0.001271930 W= 0.266021 b= 0.683292\n",
      "Epoch: 2400 cost= 0.001321328 W= 0.265044 b= 0.69032\n",
      "Epoch: 2450 cost= 0.001368646 W= 0.264125 b= 0.696931\n",
      "Epoch: 2500 cost= 0.001413907 W= 0.263261 b= 0.703148\n",
      "Epoch: 2550 cost= 0.001457150 W= 0.262448 b= 0.708995\n",
      "Epoch: 2600 cost= 0.001498426 W= 0.261683 b= 0.714496\n",
      "Epoch: 2650 cost= 0.001537765 W= 0.260964 b= 0.719669\n",
      "Epoch: 2700 cost= 0.001575229 W= 0.260288 b= 0.724534\n",
      "Epoch: 2750 cost= 0.001610877 W= 0.259652 b= 0.729109\n",
      "Epoch: 2800 cost= 0.001644778 W= 0.259053 b= 0.733414\n",
      "Epoch: 2850 cost= 0.001676978 W= 0.258491 b= 0.737462\n",
      "Epoch: 2900 cost= 0.001707547 W= 0.257961 b= 0.741269\n",
      "Epoch: 2950 cost= 0.001736555 W= 0.257464 b= 0.74485\n",
      "Epoch: 3000 cost= 0.001764055 W= 0.256995 b= 0.748218\n",
      "Epoch: 3050 cost= 0.001790120 W= 0.256555 b= 0.751386\n",
      "Epoch: 3100 cost= 0.001814812 W= 0.256141 b= 0.754365\n",
      "Epoch: 3150 cost= 0.001838186 W= 0.255751 b= 0.757167\n",
      "Epoch: 3200 cost= 0.001860315 W= 0.255385 b= 0.759804\n",
      "Epoch: 3250 cost= 0.001881245 W= 0.25504 b= 0.762282\n",
      "Epoch: 3300 cost= 0.001901037 W= 0.254716 b= 0.764614\n",
      "Epoch: 3350 cost= 0.001919742 W= 0.254412 b= 0.766806\n",
      "Epoch: 3400 cost= 0.001937416 W= 0.254125 b= 0.768869\n",
      "Epoch: 3450 cost= 0.001954121 W= 0.253855 b= 0.770809\n",
      "Epoch: 3500 cost= 0.001969903 W= 0.253601 b= 0.772634\n",
      "Epoch: 3550 cost= 0.001984794 W= 0.253363 b= 0.774349\n",
      "Epoch: 3600 cost= 0.001998853 W= 0.253139 b= 0.775963\n",
      "Epoch: 3650 cost= 0.002012130 W= 0.252928 b= 0.777482\n",
      "Epoch: 3700 cost= 0.002024651 W= 0.252729 b= 0.778911\n",
      "Epoch: 3750 cost= 0.002036456 W= 0.252542 b= 0.780252\n",
      "Epoch: 3800 cost= 0.002047601 W= 0.252367 b= 0.781516\n",
      "Epoch: 3850 cost= 0.002058102 W= 0.252202 b= 0.782704\n",
      "Epoch: 3900 cost= 0.002068023 W= 0.252046 b= 0.783822\n",
      "Epoch: 3950 cost= 0.002077364 W= 0.2519 b= 0.784873\n",
      "Epoch: 4000 cost= 0.002086157 W= 0.251763 b= 0.78586\n",
      "Epoch: 4050 cost= 0.002094418 W= 0.251634 b= 0.786786\n",
      "Epoch: 4100 cost= 0.002102202 W= 0.251513 b= 0.787657\n",
      "Epoch: 4150 cost= 0.002109555 W= 0.251399 b= 0.788478\n",
      "Epoch: 4200 cost= 0.002116468 W= 0.251292 b= 0.789248\n",
      "Epoch: 4250 cost= 0.002122998 W= 0.251191 b= 0.789975\n",
      "Epoch: 4300 cost= 0.002129145 W= 0.251096 b= 0.790658\n",
      "Epoch: 4350 cost= 0.002134939 W= 0.251007 b= 0.7913\n",
      "Epoch: 4400 cost= 0.002140378 W= 0.250923 b= 0.791903\n",
      "Epoch: 4450 cost= 0.002145509 W= 0.250844 b= 0.792471\n",
      "Epoch: 4500 cost= 0.002150320 W= 0.25077 b= 0.793003\n",
      "Epoch: 4550 cost= 0.002154851 W= 0.2507 b= 0.793504\n",
      "Epoch: 4600 cost= 0.002159135 W= 0.250635 b= 0.793976\n",
      "Epoch: 4650 cost= 0.002163169 W= 0.250573 b= 0.794421\n",
      "Epoch: 4700 cost= 0.002166966 W= 0.250515 b= 0.794839\n",
      "Epoch: 4750 cost= 0.002170534 W= 0.25046 b= 0.795231\n",
      "Epoch: 4800 cost= 0.002173898 W= 0.250409 b= 0.795601\n",
      "Epoch: 4850 cost= 0.002177062 W= 0.250361 b= 0.795948\n",
      "Epoch: 4900 cost= 0.002180039 W= 0.250315 b= 0.796276\n",
      "Epoch: 4950 cost= 0.002182892 W= 0.250272 b= 0.796588\n",
      "Epoch: 5000 cost= 0.002185512 W= 0.250232 b= 0.796875\n",
      "Optimization Finished!\n",
      "Training cost= 0.0769911 W= 0.250232 b= 0.796875 \n",
      "\n"
     ]
    }
   ],
   "source": [
    "# Execute GRAPH\n",
    "with tf.Session() as s:\n",
    "    s.run(init)\n",
    "    \n",
    "    # Fit data using OPTIMISATION\n",
    "    for epoch in range(epochs):\n",
    "        for x, y in zip(train_X, train_Y):\n",
    "            s.run(optimizer, feed_dict={X: x, Y: y})\n",
    "    \n",
    "        # calculate current COST after epoch on the whole training data\n",
    "        if (epoch+1) % disp_step == 0:\n",
    "            c = s.run(cost, feed_dict={X: x, Y: y})\n",
    "            print \"Epoch:\", '%04d' % (epoch+1), \"cost=\", \"{:.9f}\".format(c), \\\n",
    "                \"W=\", s.run(W), \"b=\", s.run(b)\n",
    "    \n",
    "    # DONE\n",
    "    print \"Optimization Finished!\"\n",
    "    training_cost = s.run(cost, feed_dict={X: train_X, Y: train_Y})\n",
    "    print \"Training cost=\", training_cost, \"W=\", s.run(W), \"b=\", s.run(b), '\\n'\n",
    "    \n",
    "    Wbest = s.run(W)\n",
    "    bbest = s.run(b)"
   ]
  },
  {
   "cell_type": "code",
   "execution_count": 32,
   "metadata": {},
   "outputs": [
    {
     "data": {
      "image/png": "[encoded data removed]",
      "text/plain": [
       "<matplotlib.figure.Figure at 0x7efc4c134450>"
      ]
     },
     "metadata": {},
     "output_type": "display_data"
    }
   ],
   "source": [
    "#Graphic display\n",
    "plt.plot(train_X, train_Y, 'ro', label='Original data')\n",
    "plt.plot(train_X, Wbest * train_X + bbest, label='Fitted line')\n",
    "plt.legend()\n",
    "plt.show()"
   ]
  }
 ],
 "metadata": {
  "kernelspec": {
   "display_name": "Python 2",
   "language": "python",
   "name": "python2"
  },
  "language_info": {
   "codemirror_mode": {
    "name": "ipython",
    "version": 2
   },
   "file_extension": ".py",
   "mimetype": "text/x-python",
   "name": "python",
   "nbconvert_exporter": "python",
   "pygments_lexer": "ipython2",
   "version": "2.7.12"
  }
 },
 "nbformat": 4,
 "nbformat_minor": 2
}
