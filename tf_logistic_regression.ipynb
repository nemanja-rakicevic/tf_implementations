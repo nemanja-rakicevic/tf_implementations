{
 "cells": [
  {
   "cell_type": "code",
   "execution_count": 1,
   "metadata": {},
   "outputs": [
    {
     "name": "stdout",
     "output_type": "stream",
     "text": [
      "Extracting /tmp/data/train-images-idx3-ubyte.gz\n",
      "Extracting /tmp/data/train-labels-idx1-ubyte.gz\n",
      "Extracting /tmp/data/t10k-images-idx3-ubyte.gz\n",
      "Extracting /tmp/data/t10k-labels-idx1-ubyte.gz\n"
     ]
    }
   ],
   "source": [
    "\n",
    "import tensorflow as tf\n",
    "\n",
    "# Import MINST data\n",
    "from tensorflow.examples.tutorials.mnist import input_data\n",
    "mnist = input_data.read_data_sets(\"/tmp/data/\", one_hot=True)"
   ]
  },
  {
   "cell_type": "code",
   "execution_count": 2,
   "metadata": {
    "collapsed": true
   },
   "outputs": [],
   "source": [
    "# parameters\n",
    "lr = 0.01\n",
    "epochs = 25\n",
    "batch_size = 100\n",
    "disp_step = 1"
   ]
  },
  {
   "cell_type": "code",
   "execution_count": 3,
   "metadata": {
    "collapsed": true
   },
   "outputs": [],
   "source": [
    "# VARS\n",
    "# i/o\n",
    "x = tf.placeholder(tf.float32, [None, 784])\n",
    "y = tf.placeholder(tf.float32, [None, 10])\n",
    "\n",
    "# weights\n",
    "W = tf.Variable(tf.zeros([784, 10]), name=\"weight\")\n",
    "b = tf.Variable(tf.zeros([10]), name=\"bias\")"
   ]
  },
  {
   "cell_type": "code",
   "execution_count": 4,
   "metadata": {
    "collapsed": true
   },
   "outputs": [],
   "source": [
    "# MODEL\n",
    "pred = tf.nn.softmax(tf.matmul(x, W) + b)"
   ]
  },
  {
   "cell_type": "code",
   "execution_count": 7,
   "metadata": {
    "collapsed": true
   },
   "outputs": [],
   "source": [
    "# EVALUATION (CROSS ENTROPY)\n",
    "cost = tf.reduce_mean(-tf.reduce_sum( y*tf.log(pred), reduction_indices=1))"
   ]
  },
  {
   "cell_type": "code",
   "execution_count": 6,
   "metadata": {
    "collapsed": true
   },
   "outputs": [],
   "source": [
    "# OPTIMISATION\n",
    "optimizer = tf.train.GradientDescentOptimizer(lr).minimize(cost)"
   ]
  },
  {
   "cell_type": "code",
   "execution_count": 8,
   "metadata": {
    "collapsed": true
   },
   "outputs": [],
   "source": [
    "# INIT vars\n",
    "init = tf.global_variables_initializer()"
   ]
  },
  {
   "cell_type": "code",
   "execution_count": 13,
   "metadata": {},
   "outputs": [
    {
     "name": "stdout",
     "output_type": "stream",
     "text": [
      "Epoch: 0001 cost= 1.183562833\n",
      "Epoch: 0002 cost= 0.665227361\n",
      "Epoch: 0003 cost= 0.552796508\n",
      "Epoch: 0004 cost= 0.498614634\n",
      "Epoch: 0005 cost= 0.465109452\n",
      "Epoch: 0006 cost= 0.443024669\n",
      "Epoch: 0007 cost= 0.425161340\n",
      "Epoch: 0008 cost= 0.412059690\n",
      "Epoch: 0009 cost= 0.401560089\n",
      "Epoch: 0010 cost= 0.392472950\n",
      "Epoch: 0011 cost= 0.384302006\n",
      "Epoch: 0012 cost= 0.378411347\n",
      "Epoch: 0013 cost= 0.372516030\n",
      "Epoch: 0014 cost= 0.367194801\n",
      "Epoch: 0015 cost= 0.363082029\n",
      "Epoch: 0016 cost= 0.358112768\n",
      "Epoch: 0017 cost= 0.354887226\n",
      "Epoch: 0018 cost= 0.351871948\n",
      "Epoch: 0019 cost= 0.348324917\n",
      "Epoch: 0020 cost= 0.345272864\n",
      "Epoch: 0021 cost= 0.342738533\n",
      "Epoch: 0022 cost= 0.340641016\n",
      "Epoch: 0023 cost= 0.337310539\n",
      "Epoch: 0024 cost= 0.336127366\n",
      "Epoch: 0025 cost= 0.333891065\n",
      "Accuracy:  0.887667\n"
     ]
    }
   ],
   "source": [
    "# Execute GRAPH\n",
    "with tf.Session() as s:\n",
    "    s.run(init)\n",
    "    \n",
    "    # TRAINING\n",
    "    # Fit data using OPTIMISATION\n",
    "    for epoch in range(epochs):\n",
    "        avg_cost = 0.\n",
    "        current_batch = int(mnist.train.num_examples/batch_size)\n",
    "        # for batch\n",
    "        for b in range(current_batch):\n",
    "            batch_xs, batch_ys = mnist.train.next_batch(batch_size)\n",
    "            _, c = s.run([optimizer,cost], feed_dict={x: batch_xs, y: batch_ys})\n",
    "            # calculate COST averaged over batch\n",
    "            avg_cost += c / current_batch\n",
    "            \n",
    "        # disp statistics\n",
    "        if (epoch+1) % disp_step == 0:\n",
    "            print \"Epoch:\", '%04d' % (epoch+1), \"cost=\", \"{:.9f}\".format(avg_cost)\n",
    "    \n",
    "    # TESTING\n",
    "    correct = tf.equal(tf.argmax(pred, 1), tf.argmax(y,1))\n",
    "    accuracy = tf.reduce_mean(tf.cast(correct, tf.float32))\n",
    "    print \"Accuracy: \", s.run(accuracy, feed_dict={x: mnist.test.images[:3000], y: mnist.test.labels[:3000]})\n",
    "   "
   ]
  }
 ],
 "metadata": {
  "kernelspec": {
   "display_name": "Python 2",
   "language": "python",
   "name": "python2"
  },
  "language_info": {
   "codemirror_mode": {
    "name": "ipython",
    "version": 2
   },
   "file_extension": ".py",
   "mimetype": "text/x-python",
   "name": "python",
   "nbconvert_exporter": "python",
   "pygments_lexer": "ipython2",
   "version": "2.7.12"
  }
 },
 "nbformat": 4,
 "nbformat_minor": 2
}
