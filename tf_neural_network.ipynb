{
 "cells": [
  {
   "cell_type": "code",
   "execution_count": 39,
   "metadata": {},
   "outputs": [
    {
     "name": "stdout",
     "output_type": "stream",
     "text": [
      "Extracting /tmp/data/train-images-idx3-ubyte.gz\n",
      "Extracting /tmp/data/train-labels-idx1-ubyte.gz\n",
      "Extracting /tmp/data/t10k-images-idx3-ubyte.gz\n",
      "Extracting /tmp/data/t10k-labels-idx1-ubyte.gz\n"
     ]
    }
   ],
   "source": [
    "\n",
    "import tensorflow as tf\n",
    "import matplotlib.pyplot as plt\n",
    "import numpy as np\n",
    "\n",
    "# Import MINST data\n",
    "from tensorflow.examples.tutorials.mnist import input_data\n",
    "mnist = input_data.read_data_sets(\"/tmp/data/\", one_hot=True)"
   ]
  },
  {
   "cell_type": "code",
   "execution_count": 32,
   "metadata": {
    "collapsed": true
   },
   "outputs": [],
   "source": [
    "# parameters\n",
    "lr = 0.001\n",
    "epochs = 500\n",
    "batch_size = 100\n",
    "disp_step = 100"
   ]
  },
  {
   "cell_type": "code",
   "execution_count": 3,
   "metadata": {
    "collapsed": true
   },
   "outputs": [],
   "source": [
    "# PARAMETERS \n",
    "hidd1 = 256\n",
    "hidd2 = 256\n",
    "num_in = 784\n",
    "num_out = 10\n",
    "\n",
    "# i/o\n",
    "X = tf.placeholder(tf.float32, [None, num_in])\n",
    "Y = tf.placeholder(tf.float32, [None, num_out])\n",
    "\n",
    "# weights as dictionaries\n",
    "weights = {\n",
    "    'w1': tf.Variable(tf.random_normal([num_in, hidd1])),\n",
    "    'w2': tf.Variable(tf.random_normal([hidd1, hidd2])),\n",
    "    'wout': tf.Variable(tf.random_normal([hidd2, num_out])),\n",
    "    'b1': tf.Variable(tf.random_normal([hidd1])),\n",
    "    'b2': tf.Variable(tf.random_normal([hidd2])),\n",
    "    'bout': tf.Variable(tf.random_normal([num_out]))\n",
    "}"
   ]
  },
  {
   "cell_type": "code",
   "execution_count": 4,
   "metadata": {
    "collapsed": true
   },
   "outputs": [],
   "source": [
    "# MODEL\n",
    "def nn(x, weights):\n",
    "    lay1 = tf.add(tf.matmul(x, weights['w1']), weights['b1'])\n",
    "    lay2 = tf.add(tf.matmul(lay1, weights['w2']), weights['b2'])\n",
    "    lay_out = tf.add(tf.matmul(lay2, weights['wout']), weights['bout'])\n",
    "    return lay_out"
   ]
  },
  {
   "cell_type": "code",
   "execution_count": 5,
   "metadata": {
    "collapsed": true
   },
   "outputs": [],
   "source": [
    "nn_out = nn(X, weights)"
   ]
  },
  {
   "cell_type": "code",
   "execution_count": 6,
   "metadata": {
    "collapsed": true
   },
   "outputs": [],
   "source": [
    "# COST\n",
    "op_cost = tf.reduce_mean(tf.nn.softmax_cross_entropy_with_logits(logits=nn_out, labels=Y))\n"
   ]
  },
  {
   "cell_type": "code",
   "execution_count": 33,
   "metadata": {
    "collapsed": true
   },
   "outputs": [],
   "source": [
    "# OPTIMISATION\n",
    "op_optimizer = tf.train.AdamOptimizer(learning_rate=lr).minimize(op_cost)\n"
   ]
  },
  {
   "cell_type": "code",
   "execution_count": 34,
   "metadata": {
    "collapsed": true
   },
   "outputs": [],
   "source": [
    "# ACCURACY EVALUATION\n",
    "correct = tf.equal(tf.argmax(nn_out, 1), tf.argmax(Y,1))\n",
    "\n",
    "accuracy = tf.reduce_mean(tf.cast(correct, tf.float32))"
   ]
  },
  {
   "cell_type": "code",
   "execution_count": 35,
   "metadata": {
    "collapsed": true
   },
   "outputs": [],
   "source": [
    "# INIT\n",
    "init = tf.global_variables_initializer()"
   ]
  },
  {
   "cell_type": "code",
   "execution_count": 37,
   "metadata": {},
   "outputs": [
    {
     "name": "stdout",
     "output_type": "stream",
     "text": [
      "Step 0, Minibatch Loss= 3849.9556, Training Accuracy= 0.060\n",
      "Step 1, Minibatch Loss= 3163.5049, Training Accuracy= 0.100\n",
      "Step 100, Minibatch Loss= 260.9742, Training Accuracy= 0.720\n",
      "Step 200, Minibatch Loss= 217.6221, Training Accuracy= 0.770\n",
      "Step 300, Minibatch Loss= 262.6657, Training Accuracy= 0.770\n",
      "Step 400, Minibatch Loss= 91.1447, Training Accuracy= 0.860\n",
      "Test Accuracy:  0.8548\n"
     ]
    }
   ],
   "source": [
    "# Execute GRAPH\n",
    "with tf.Session() as s:\n",
    "    s.run(init)\n",
    "    \n",
    "    # TRAINING\n",
    "    # Fit data using OPTIMISATION\n",
    "    for e in range(epochs):\n",
    "        batch_xs, batch_ys = mnist.train.next_batch(batch_size)\n",
    "        s.run(op_optimizer, feed_dict={X: batch_xs, Y: batch_ys})\n",
    "        if e % disp_step == 0 or e==1:\n",
    "            loss, acc = s.run([op_cost, accuracy], feed_dict={X: batch_xs,\n",
    "                                                              Y: batch_ys})\n",
    "     \n",
    "            print(\"Step \" + str(e) + \", Minibatch Loss= \" + \\\n",
    "              \"{:.4f}\".format(loss) + \", Training Accuracy= \" + \\\n",
    "              \"{:.3f}\".format(acc))\n",
    "        \n",
    "        \n",
    "\n",
    "    # TESTING\n",
    "    print \"Test Accuracy: \", \\\n",
    "    s.run(accuracy, feed_dict={X: mnist.test.images, Y: mnist.test.labels})\n",
    "   \n",
    "    # TEST PREDICTIONS\n",
    "    test_pred = s.run(tf.argmax(nn_out, 1), feed_dict={X: mnist.test.images, Y: mnist.test.labels})\n",
    "    "
   ]
  },
  {
   "cell_type": "code",
   "execution_count": 42,
   "metadata": {},
   "outputs": [
    {
     "data": {
      "image/png": "[encoded data removed]",
      "text/plain": [
       "<matplotlib.figure.Figure at 0x7f5458d2c7d0>"
      ]
     },
     "metadata": {},
     "output_type": "display_data"
    },
    {
     "name": "stdout",
     "output_type": "stream",
     "text": [
      "('Model prediction:', 6)\n"
     ]
    },
    {
     "data": {
      "image/png": "[encoded data removed]",
      "text/plain": [
       "<matplotlib.figure.Figure at 0x7f5458c0efd0>"
      ]
     },
     "metadata": {},
     "output_type": "display_data"
    },
    {
     "name": "stdout",
     "output_type": "stream",
     "text": [
      "('Model prediction:', 9)\n"
     ]
    },
    {
     "data": {
      "image/png": "[encoded data removed]",
      "text/plain": [
       "<matplotlib.figure.Figure at 0x7f5458cddb50>"
      ]
     },
     "metadata": {},
     "output_type": "display_data"
    },
    {
     "name": "stdout",
     "output_type": "stream",
     "text": [
      "('Model prediction:', 1)\n"
     ]
    },
    {
     "data": {
      "image/png": "[encoded data removed]",
      "text/plain": [
       "<matplotlib.figure.Figure at 0x7f54481f7790>"
      ]
     },
     "metadata": {},
     "output_type": "display_data"
    },
    {
     "name": "stdout",
     "output_type": "stream",
     "text": [
      "('Model prediction:', 4)\n"
     ]
    }
   ],
   "source": [
    "# Display\n",
    "for ii in range(4):\n",
    "    i = 4+5*ii\n",
    "    plt.imshow(np.reshape(mnist.test.images[i], [28, 28]), cmap='gray')\n",
    "    plt.show()\n",
    "    print(\"Model prediction:\", test_pred[i])"
   ]
  }
 ],
 "metadata": {
  "kernelspec": {
   "display_name": "Python 2",
   "language": "python",
   "name": "python2"
  },
  "language_info": {
   "codemirror_mode": {
    "name": "ipython",
    "version": 2
   },
   "file_extension": ".py",
   "mimetype": "text/x-python",
   "name": "python",
   "nbconvert_exporter": "python",
   "pygments_lexer": "ipython2",
   "version": "2.7.12"
  }
 },
 "nbformat": 4,
 "nbformat_minor": 2
}
